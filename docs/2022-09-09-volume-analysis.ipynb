{
 "cells": [
  {
   "cell_type": "markdown",
   "metadata": {},
   "source": [
    "# Brain Volume Analysis"
   ]
  },
  {
   "cell_type": "code",
   "execution_count": 1,
   "metadata": {},
   "outputs": [],
   "source": [
    "import graspologic as gp\n",
    "import hyppo\n",
    "import matplotlib.pyplot as plt\n",
    "import numpy as np\n",
    "import pandas as pd\n",
    "import seaborn as sns\n",
    "from scipy.spatial.distance import squareform\n",
    "from statsmodels.stats.multitest import multipletests\n",
    "\n",
    "from pkg.data import (\n",
    "    GENOTYPES,\n",
    "    HEMISPHERES,\n",
    "    SUPER_STRUCTURES,\n",
    "    load_vertex_metadata,\n",
    "    load_volume,\n",
    ")"
   ]
  },
  {
   "cell_type": "code",
   "execution_count": 2,
   "metadata": {},
   "outputs": [
    {
     "name": "stdout",
     "output_type": "stream",
     "text": [
      "(29, 332)\n",
      "(29,)\n"
     ]
    }
   ],
   "source": [
    "## Read the data\n",
    "data, labels = load_volume()\n",
    "vertex_name, vertex_hemispheres, vertex_structures = load_vertex_metadata()\n",
    "\n",
    "print(data.shape)\n",
    "print(labels.shape)"
   ]
  },
  {
   "cell_type": "markdown",
   "metadata": {},
   "source": [
    "## Testing whether group volumes are significantly different\n",
    "\n",
    "We compute 3-sample distance correlation to see if there is any differences in the 3 groups. Specifically, we test whether the distribution of brain volumes from at least two genotypes are different."
   ]
  },
  {
   "cell_type": "code",
   "execution_count": 3,
   "metadata": {},
   "outputs": [
    {
     "name": "stdout",
     "output_type": "stream",
     "text": [
      "0.006007509501547217\n"
     ]
    }
   ],
   "source": [
    "ksample = hyppo.ksample.KSample(\"dcorr\")\n",
    "\n",
    "brain_volumes = [data[labels == genotype] for genotype in GENOTYPES]\n",
    "\n",
    "stat, pval = ksample.test(*brain_volumes)\n",
    "\n",
    "print(pval)"
   ]
  },
  {
   "cell_type": "markdown",
   "metadata": {},
   "source": [
    "We see significant difference among the three genotypes"
   ]
  },
  {
   "cell_type": "markdown",
   "metadata": {},
   "source": [
    "## Finding Signal Communities\n",
    "\n",
    "We stratify by hemisphere, super structure, then hemisphere + super structure"
   ]
  },
  {
   "cell_type": "markdown",
   "metadata": {},
   "source": [
    "### Testing for significant hemispheres"
   ]
  },
  {
   "cell_type": "code",
   "execution_count": 4,
   "metadata": {},
   "outputs": [],
   "source": [
    "hemisphere_volumes = []\n",
    "\n",
    "for hemisphere in HEMISPHERES:\n",
    "    to_append = [\n",
    "        brain_volumes[idx][:, vertex_hemispheres == hemisphere]\n",
    "        for idx in range(len(GENOTYPES))\n",
    "    ]\n",
    "    hemisphere_volumes.append(to_append)"
   ]
  },
  {
   "cell_type": "code",
   "execution_count": 5,
   "metadata": {},
   "outputs": [
    {
     "name": "stdout",
     "output_type": "stream",
     "text": [
      "[0.01730104 0.00929847]\n"
     ]
    }
   ],
   "source": [
    "# Run Dcorr\n",
    "stats, pvals = [], []\n",
    "\n",
    "for idx in range(len(hemisphere_volumes)):\n",
    "    to_test = hemisphere_volumes[idx]\n",
    "    stat, pval = ksample.test(*to_test)\n",
    "\n",
    "    stats.append(stat)\n",
    "    pvals.append(pval)\n",
    "\n",
    "significant, corrected_pvals, _, corrected_alpha = multipletests(pvals, method=\"holm\")\n",
    "\n",
    "print(corrected_pvals)"
   ]
  },
  {
   "cell_type": "markdown",
   "metadata": {},
   "source": [
    "### Testing for significant super structures"
   ]
  },
  {
   "cell_type": "code",
   "execution_count": 6,
   "metadata": {},
   "outputs": [],
   "source": [
    "structure_volumes = []\n",
    "\n",
    "for structure in SUPER_STRUCTURES:\n",
    "    to_append = [\n",
    "        brain_volumes[idx][:, vertex_structures == structure]\n",
    "        for idx in range(len(GENOTYPES))\n",
    "    ]\n",
    "    structure_volumes.append(to_append)"
   ]
  },
  {
   "cell_type": "code",
   "execution_count": 7,
   "metadata": {},
   "outputs": [
    {
     "name": "stdout",
     "output_type": "stream",
     "text": [
      "[0.04506916 0.01793374 0.01793374 0.04506916 0.83478065]\n"
     ]
    }
   ],
   "source": [
    "# Run Dcorr\n",
    "stats, pvals = [], []\n",
    "\n",
    "for idx in range(len(structure_volumes)):\n",
    "    to_test = structure_volumes[idx]\n",
    "    stat, pval = ksample.test(*to_test)\n",
    "\n",
    "    stats.append(stat)\n",
    "    pvals.append(pval)\n",
    "\n",
    "significant, corrected_pvals, _, corrected_alpha = multipletests(pvals, method=\"holm\")\n",
    "\n",
    "print(corrected_pvals)"
   ]
  },
  {
   "cell_type": "markdown",
   "metadata": {},
   "source": [
    "### Testing for significant regions"
   ]
  },
  {
   "cell_type": "code",
   "execution_count": 10,
   "metadata": {},
   "outputs": [],
   "source": [
    "from tqdm.notebook import tqdm, trange"
   ]
  },
  {
   "cell_type": "code",
   "execution_count": null,
   "metadata": {
    "tags": []
   },
   "outputs": [
    {
     "data": {
      "application/vnd.jupyter.widget-view+json": {
       "model_id": "aa419922844941da803e1ec3aad39963",
       "version_major": 2,
       "version_minor": 0
      },
      "text/plain": [
       "  0%|          | 0/332 [00:00<?, ?it/s]"
      ]
     },
     "metadata": {},
     "output_type": "display_data"
    }
   ],
   "source": [
    "# Run Dcorr\n",
    "stats, pvals = [], []\n",
    "\n",
    "ksample = hyppo.ksample.KSample(\"dcorr\")\n",
    "\n",
    "for idx in trange(vertex_name.size):\n",
    "    to_test = [brain_volumes[jdx][:, idx : idx + 1] for jdx in range(len(GENOTYPES))]\n",
    "    stat, pval = ksample.test(\n",
    "        *to_test, reps=100000, workers=-1, auto=False\n",
    "    )\n",
    "\n",
    "    stats.append(stat)\n",
    "    pvals.append(pval)\n",
    "\n",
    "significant, corrected_pvals, _, corrected_alpha = multipletests(pvals, method=\"holm\")"
   ]
  },
  {
   "cell_type": "code",
   "execution_count": 75,
   "metadata": {},
   "outputs": [
    {
     "name": "stdout",
     "output_type": "stream",
     "text": [
      "0.00015060240963855423\n"
     ]
    }
   ],
   "source": [
    "print(corrected_alpha)"
   ]
  },
  {
   "cell_type": "code",
   "execution_count": null,
   "metadata": {},
   "outputs": [],
   "source": [
    "sort_idx = np.argsort(corrected_pvals)\n",
    "\n",
    "tmp = np.array(\n",
    "[\n",
    "    vertex_name[sort_idx],\n",
    "    vertex_hemispheres[sort_idx],\n",
    "    vertex_structures[sort_idx],\n",
    "    corrected_pvals[sort_idx],\n",
    "    np.array(pvals)[sort_idx]\n",
    "]\n",
    ")\n",
    "\n",
    "res = pd.DataFrame(tmp.T, columns = [\"Name\", \"Hemisphere\", \"Structure\", \"Corrected Pval\", \"Pval\"])"
   ]
  },
  {
   "cell_type": "code",
   "execution_count": null,
   "metadata": {},
   "outputs": [],
   "source": [
    "res.to_csv(\"../results/outputs/volume_analysis.csv\", index=False)"
   ]
  },
  {
   "cell_type": "code",
   "execution_count": null,
   "metadata": {},
   "outputs": [],
   "source": [
    "res.head()"
   ]
  },
  {
   "cell_type": "code",
   "execution_count": 77,
   "metadata": {},
   "outputs": [
    {
     "data": {
      "text/plain": [
       "0      False\n",
       "1      False\n",
       "2      False\n",
       "3      False\n",
       "4      False\n",
       "       ...  \n",
       "327    False\n",
       "328    False\n",
       "329    False\n",
       "330    False\n",
       "331    False\n",
       "Name: Corrected Pval, Length: 332, dtype: bool"
      ]
     },
     "execution_count": 77,
     "metadata": {},
     "output_type": "execute_result"
    }
   ],
   "source": [
    "res[\"Corrected Pval\"] <= corrected_alpha"
   ]
  },
  {
   "cell_type": "code",
   "execution_count": null,
   "metadata": {},
   "outputs": [],
   "source": []
  }
 ],
 "metadata": {
  "kernelspec": {
   "display_name": "Python 3 (ipykernel)",
   "language": "python",
   "name": "python3"
  },
  "language_info": {
   "codemirror_mode": {
    "name": "ipython",
    "version": 3
   },
   "file_extension": ".py",
   "mimetype": "text/x-python",
   "name": "python",
   "nbconvert_exporter": "python",
   "pygments_lexer": "ipython3",
   "version": "3.8.0"
  }
 },
 "nbformat": 4,
 "nbformat_minor": 4
}
