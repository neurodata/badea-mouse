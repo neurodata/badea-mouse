{
 "cells": [
  {
   "cell_type": "code",
   "execution_count": 65,
   "id": "a4cfc2ef-bf37-4b47-af6a-743e80a08278",
   "metadata": {
    "tags": [
     "hide-cell"
    ]
   },
   "outputs": [],
   "source": [
    "from itertools import product\n",
    "\n",
    "import graspologic as gp\n",
    "import matplotlib.pyplot as plt\n",
    "import numpy as np\n",
    "from graspologic.embed import AdjacencySpectralEmbed, OmnibusEmbed\n",
    "from graspologic.plot import heatmap\n",
    "from graspologic.simulations import p_from_latent, sample_edges\n",
    "from joblib import Parallel, delayed\n",
    "\n",
    "from pkg.inference.vertex_position_test import *\n",
    "from pkg.inference.vertex_position_test import _bootstrap, _difference_norm, _embed"
   ]
  },
  {
   "cell_type": "code",
   "execution_count": 3,
   "id": "a0a8e5f8-edc1-4d6f-85aa-cf13f0240777",
   "metadata": {
    "tags": [
     "hide-cell"
    ]
   },
   "outputs": [],
   "source": [
    "def compute_delta(p, eps):\n",
    "    delta = ((p + eps) ** 2 - p**2) / p\n",
    "\n",
    "    return delta\n",
    "\n",
    "\n",
    "def sample_latent(n, p, eps, seed=None):\n",
    "    ps = np.repeat(p, n).reshape(-1, 1)\n",
    "    X = np.sqrt(ps)\n",
    "\n",
    "    delta = compute_delta(p, eps)\n",
    "    delta_vec = np.zeros((n, 1))\n",
    "    delta_vec[0, 0] += delta\n",
    "\n",
    "    Y = np.sqrt(ps + delta_vec)\n",
    "\n",
    "    return X, Y\n",
    "\n",
    "\n",
    "def sample_graphs(n, p, eps, seed=None):\n",
    "    X, Y = sample_latent(n=n, p=p, eps=eps, seed=seed)\n",
    "\n",
    "    P_X = gp.simulations.p_from_latent(X)\n",
    "    P_Y = gp.simulations.p_from_latent(Y)\n",
    "\n",
    "    np.random.seed(seed)\n",
    "    A = gp.simulations.sample_edges(P_X)\n",
    "    B = gp.simulations.sample_edges(P_Y)\n",
    "\n",
    "    return A, B"
   ]
  },
  {
   "cell_type": "code",
   "execution_count": 74,
   "id": "7fe55315-5c56-4ad9-9388-ad4412d46185",
   "metadata": {},
   "outputs": [],
   "source": [
    "def experiment(n, p, eps, test_case='rotation', alpha=0.05, n_reps=500, n_jobs=-1):\n",
    "    def worker(seed):\n",
    "        A, B = sample_graphs(n, p, eps, seed)\n",
    "        _, pval, _, _ = vertex_position_test(A, B, n_components=2,test_case=test_case, n_bootstraps=500)  # rank 2 p matrix\n",
    "\n",
    "        return pval.reshape(-1, 1)\n",
    "\n",
    "    res = Parallel(n_jobs=n_jobs)(delayed(worker)(seed) for seed in range(n_reps))\n",
    "    pvals = np.hstack(res)\n",
    "\n",
    "    return pvals"
   ]
  },
  {
   "cell_type": "code",
   "execution_count": 75,
   "id": "4d1ad99c-a2ae-4551-8c2c-435c01aaee72",
   "metadata": {},
   "outputs": [],
   "source": [
    "n = 100\n",
    "p = 0.25\n",
    "eps = np.linspace(0, 0.75, 16)\n",
    "test_cases = [\"rotation\", \"scalar-rotation\", \"diagonal-rotation\"]\n",
    "n_reps = 500\n",
    "\n",
    "args = [dict(n=n, p=p, test_case=t, eps=e) for t, e in product(test_cases, eps)]"
   ]
  },
  {
   "cell_type": "code",
   "execution_count": 76,
   "id": "4596bdfe-7fa6-485f-9fbb-11df6f3862bf",
   "metadata": {},
   "outputs": [],
   "source": [
    "res = []\n",
    "\n",
    "for arg in args:\n",
    "    # print(f\"Running args: {arg}\")\n",
    "    res.append(experiment(**arg))"
   ]
  },
  {
   "cell_type": "code",
   "execution_count": 111,
   "id": "f928eeca-53cc-47e1-8027-3f666527c41a",
   "metadata": {},
   "outputs": [],
   "source": [
    "res_dict = {}\n",
    "\n",
    "for i in range(len(res)):\n",
    "    arg = args[i]\n",
    "    r = res[i]\n",
    "    \n",
    "    key = arg['test_case'] +\"_\" + str(arg['eps'])\n",
    "    \n",
    "    res_dict[key] = (r <= 0.05).mean(axis=1)\n",
    "\n",
    "fig, ax = plt.subplots(figsize=(6, 4), dpi=300, ncols = 3, nrows=2, sharey=True, constrained_layout=True)\n",
    "\n",
    "for idx, test_case in enumerate(test_cases):\n",
    "    power = []\n",
    "    effect_size= []\n",
    "    \n",
    "    for key in res_dict.keys():\n",
    "        if test_case == key.split(\"_\")[0]:\n",
    "            power.append(res_dict[key])\n",
    "            effect_size.append(key.split(\"_\")[1])\n",
    "    \n",
    "    vertex_changed = [p[0] for p in power]\n",
    "    vertex_control = [p[1] for p in power]\n",
    "    \n",
    "    ax[0, idx].plot(eps, vertex_control)\n",
    "    ax[1, idx].plot(eps, vertex_changed)\n",
    "    \n",
    "    ax[0, idx].axhline(0.05, ls='--', alpha=0.5, c='k')\n",
    "    ax[1, idx].axhline(0.05, ls='--', alpha=0.5, c='k')\n",
    "    ax[0, idx].set(title=test_case)\n",
    "    \n",
    "ax[0, 0].set(ylabel=\"Probability of Reject\")\n",
    "ax[1, 0].set(ylabel=\"Probability of Reject\")\n",
    "\n",
    "for i in range(3):\n",
    "    ax[1, i].set(xlabel='Effect Size')\n",
    "# ax[0, 0].yaxis.tick_right()\n",
    "\n",
    "# ax.yaxis.set_label_position(\"right\")\n",
    "\n",
    "ax[0, -1].set(label=\"Unchanged Vertex\")\n",
    "ax[1, -1].set(label=\"Changed Vertex\")\n",
    "ax[0, -1].yaxis.set_label_position(\"right\")\n"
   ]
  },
  {
   "cell_type": "code",
   "execution_count": null,
   "id": "1ed45e9a-822c-4075-afda-6ea59531a2a2",
   "metadata": {},
   "outputs": [],
   "source": []
  }
 ],
 "metadata": {
  "kernelspec": {
   "display_name": "Python 3 (ipykernel)",
   "language": "python",
   "name": "python3"
  },
  "language_info": {
   "codemirror_mode": {
    "name": "ipython",
    "version": 3
   },
   "file_extension": ".py",
   "mimetype": "text/x-python",
   "name": "python",
   "nbconvert_exporter": "python",
   "pygments_lexer": "ipython3",
   "version": "3.8.0"
  }
 },
 "nbformat": 4,
 "nbformat_minor": 5
}
