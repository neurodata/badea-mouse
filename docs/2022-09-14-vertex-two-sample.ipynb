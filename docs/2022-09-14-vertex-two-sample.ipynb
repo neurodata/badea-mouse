{
 "cells": [
  {
   "cell_type": "code",
   "execution_count": 1,
   "id": "419bf248-335e-41e8-a9aa-96d63aac8244",
   "metadata": {},
   "outputs": [],
   "source": [
    "import graspologic as gp\n",
    "import matplotlib.pyplot as plt\n",
    "import numpy as np\n",
    "from graspologic.embed import AdjacencySpectralEmbed, OmnibusEmbed\n",
    "from graspologic.plot import heatmap\n",
    "from graspologic.simulations import p_from_latent, sample_edges"
   ]
  },
  {
   "cell_type": "code",
   "execution_count": 5,
   "id": "aeb8da68-7b2a-4e82-b69b-7cf231c1b486",
   "metadata": {},
   "outputs": [],
   "source": [
    "from pkg.inference.vertex_position_test import *\n",
    "from pkg.inference.vertex_position_test import _bootstrap, _difference_norm, _embed"
   ]
  },
  {
   "cell_type": "code",
   "execution_count": 3,
   "id": "a0a8e5f8-edc1-4d6f-85aa-cf13f0240777",
   "metadata": {},
   "outputs": [],
   "source": [
    "def compute_delta(p, eps):\n",
    "    delta = ((p + eps) ** 2 - p**2) / p\n",
    "\n",
    "    return delta\n",
    "\n",
    "\n",
    "def sample_latent(n, p, eps, seed=None):\n",
    "    ps = np.repeat(p, n).reshape(-1, 1)\n",
    "    X = np.sqrt(ps)\n",
    "\n",
    "    delta = compute_delta(p, eps)\n",
    "    delta_vec = np.zeros((n, 1))\n",
    "    delta_vec[0, 0] += delta\n",
    "\n",
    "    Y = np.sqrt(ps + delta_vec)\n",
    "\n",
    "    return X, Y\n",
    "\n",
    "\n",
    "def sample_graphs(n, p, eps, seed=None):\n",
    "    X, Y = sample_latent(n=n, p=p, eps=eps, seed=seed)\n",
    "\n",
    "    P_X = gp.simulations.p_from_latent(X)\n",
    "    P_Y = gp.simulations.p_from_latent(Y)\n",
    "\n",
    "    np.random.seed(seed)\n",
    "    A = gp.simulations.sample_edges(P_X)\n",
    "    B = gp.simulations.sample_edges(P_Y)\n",
    "\n",
    "    return A, B"
   ]
  },
  {
   "cell_type": "code",
   "execution_count": 51,
   "id": "2154aa64-9a6a-46a7-ac10-6dcf6f188e09",
   "metadata": {},
   "outputs": [],
   "source": [
    "n = 100\n",
    "p = 0.25\n",
    "eps = np.linspace(0, 0.75, 16)\n",
    "\n",
    "n_reps = 500\n",
    "\n",
    "args = [dict(n=n, p=p, eps=e) for e in eps]"
   ]
  },
  {
   "cell_type": "code",
   "execution_count": 53,
   "id": "40d4a53e-b558-446d-8efe-975f50e6bc61",
   "metadata": {},
   "outputs": [],
   "source": [
    "from joblib import Parallel, delayed"
   ]
  },
  {
   "cell_type": "code",
   "execution_count": 54,
   "id": "7fe55315-5c56-4ad9-9388-ad4412d46185",
   "metadata": {},
   "outputs": [],
   "source": [
    "def experiment(n, p, eps, n_reps=500, n_jobs=-1):\n",
    "    def worker(seed):\n",
    "        A, B = sample_graphs(n, p, eps, seed)\n",
    "        _, pval, _, _ = vertex_position_test(A, B, n_components=2)  # rank 2 p matrix\n",
    "\n",
    "        return pval\n",
    "\n",
    "    res = Parallel(n_jobs=n_jobs)(delayed(worker)(seed) for seed in range(n_reps))\n",
    "\n",
    "    return res"
   ]
  },
  {
   "cell_type": "code",
   "execution_count": null,
   "id": "b4b57779-cbd3-43e5-a868-8064b87e129b",
   "metadata": {},
   "outputs": [],
   "source": []
  }
 ],
 "metadata": {
  "kernelspec": {
   "display_name": "Python 3 (ipykernel)",
   "language": "python",
   "name": "python3"
  },
  "language_info": {
   "codemirror_mode": {
    "name": "ipython",
    "version": 3
   },
   "file_extension": ".py",
   "mimetype": "text/x-python",
   "name": "python",
   "nbconvert_exporter": "python",
   "pygments_lexer": "ipython3",
   "version": "3.9.14"
  }
 },
 "nbformat": 4,
 "nbformat_minor": 5
}
