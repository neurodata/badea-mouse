{
 "cells": [
  {
   "cell_type": "code",
   "execution_count": 29,
   "id": "2e319eaa-a436-4031-8018-b9bda88a0c99",
   "metadata": {},
   "outputs": [],
   "source": [
    "import pandas as pd\n",
    "from graspologic.embed import OmnibusEmbed\n",
    "from scipy.spatial.distance import pdist, squareform"
   ]
  },
  {
   "cell_type": "code",
   "execution_count": 68,
   "id": "f769aaf9-5105-4418-8155-71d708783b32",
   "metadata": {},
   "outputs": [],
   "source": [
    "volumes = pd.read_csv(\"../data/new/processed/volumes.csv\")\n",
    "fa = pd.read_csv(\"../data/new/processed/fa.csv\")\n",
    "meta = pd.read_csv(\"../data/new/processed/meta.csv\")\n",
    "\n",
    "vols = []\n",
    "for idx, row in meta.iterrows():\n",
    "    ID = row[\"ID\"]\n",
    "    vols.append(volumes[[ID]].values.ravel())\n",
    "\n",
    "fas = []\n",
    "for idx, row in meta.iterrows():\n",
    "    ID = row[\"ID\"]\n",
    "    fas.append(fa[[ID]].values.ravel())\n",
    "\n",
    "vols = np.vstack(vols)\n",
    "vols /= vols.sum(axis=1, keepdims=True)\n",
    "\n",
    "fas = np.vstack(fas)\n",
    "fas /= fas.sum(axis=1, keepdims=True)\n",
    "\n",
    "vol_dists = [squareform(pdist(v.reshape(-1, 1))) for v in vols]\n",
    "fa_dists = [squareform(pdist(v.reshape(-1, 1))) for v in fas]"
   ]
  },
  {
   "cell_type": "code",
   "execution_count": 40,
   "id": "0737cb27-2f49-44a6-8467-97a3483d6a7a",
   "metadata": {},
   "outputs": [],
   "source": [
    "omni = OmnibusEmbed(n_components=18)\n",
    "vol_embed = omni.fit_transform(vol_dists)"
   ]
  },
  {
   "cell_type": "code",
   "execution_count": 70,
   "id": "820bbd07-e7bf-4457-997f-b095404ff7b7",
   "metadata": {},
   "outputs": [],
   "source": [
    "omni = OmnibusEmbed(n_components=18)\n",
    "fa_embed = omni.fit_transform(fa_dists)"
   ]
  },
  {
   "cell_type": "code",
   "execution_count": 44,
   "id": "c28e6d3a-e481-41ac-8b46-5e4c15cbb3e0",
   "metadata": {},
   "outputs": [],
   "source": [
    "np.save(\"../data/embeddings/vol_embed\", vol_embed)"
   ]
  },
  {
   "cell_type": "code",
   "execution_count": 71,
   "id": "7eefcd39-4d6c-457d-aece-19956b7ed463",
   "metadata": {},
   "outputs": [],
   "source": [
    "np.save(\"../data/embeddings/fa_embed\", fa_embed)"
   ]
  },
  {
   "cell_type": "code",
   "execution_count": null,
   "id": "9d69f761-983e-41dc-ad27-e99e93c57641",
   "metadata": {},
   "outputs": [],
   "source": []
  }
 ],
 "metadata": {
  "kernelspec": {
   "display_name": "Python 3 (ipykernel)",
   "language": "python",
   "name": "python3"
  },
  "language_info": {
   "codemirror_mode": {
    "name": "ipython",
    "version": 3
   },
   "file_extension": ".py",
   "mimetype": "text/x-python",
   "name": "python",
   "nbconvert_exporter": "python",
   "pygments_lexer": "ipython3",
   "version": "3.9.16"
  }
 },
 "nbformat": 4,
 "nbformat_minor": 5
}
