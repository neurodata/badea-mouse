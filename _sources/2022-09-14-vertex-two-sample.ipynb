{
 "cells": [
  {
   "cell_type": "code",
   "execution_count": 3,
   "id": "419bf248-335e-41e8-a9aa-96d63aac8244",
   "metadata": {},
   "outputs": [],
   "source": [
    "import graspologic as gp\n",
    "import matplotlib.pyplot as plt\n",
    "import numpy as np\n",
    "from graspologic.embed import AdjacencySpectralEmbed, OmnibusEmbed\n",
    "from graspologic.plot import heatmap\n",
    "from graspologic.simulations import p_from_latent, sample_edges"
   ]
  },
  {
   "cell_type": "code",
   "execution_count": 4,
   "id": "aeb8da68-7b2a-4e82-b69b-7cf231c1b486",
   "metadata": {},
   "outputs": [],
   "source": [
    "from pkg.inference.vertex_position_test import vertex_position_test"
   ]
  },
  {
   "cell_type": "code",
   "execution_count": 61,
   "id": "a0a8e5f8-edc1-4d6f-85aa-cf13f0240777",
   "metadata": {},
   "outputs": [],
   "source": [
    "def compute_delta(p, eps):\n",
    "    delta = ((p + eps) ** 2 - p**2) / p\n",
    "\n",
    "    return delta\n",
    "\n",
    "def sample_latent(n, p, eps, seed=None):\n",
    "    ps = np.repeat(p, n).reshape(-1, 1)\n",
    "    X = np.sqrt(ps)\n",
    "\n",
    "    delta = compute_delta(p, eps)\n",
    "    delta_vec = np.zeros((n, 1))\n",
    "    delta_vec[0, 0] += delta\n",
    "\n",
    "    Y = np.sqrt(ps + delta_vec)\n",
    "\n",
    "    return X, Y\n",
    "\n",
    "\n",
    "def sample_graphs(n, p, eps, seed=None):\n",
    "    X, Y = sample_latent(n=n, p=p, eps=eps, seed=seed)\n",
    "\n",
    "    P_X = gp.simulations.p_from_latent(X)\n",
    "    P_Y = gp.simulations.p_from_latent(Y)\n",
    "\n",
    "    np.random.seed(seed)\n",
    "    A = gp.simulations.sample_edges(P_X)\n",
    "    B = gp.simulations.sample_edges(P_Y)\n",
    "\n",
    "    return A, B"
   ]
  },
  {
   "cell_type": "code",
   "execution_count": 6,
   "id": "1f12a170-84c4-4862-a332-bb299c7e6851",
   "metadata": {},
   "outputs": [],
   "source": [
    "p = 0.25\n",
    "eps = 3\n",
    "n = 25"
   ]
  },
  {
   "cell_type": "code",
   "execution_count": 9,
   "id": "ed397851-1f99-4556-b9e9-79ccf19c8808",
   "metadata": {},
   "outputs": [],
   "source": [
    "X = np.repeat(np.sqrt(p), n).reshape(-1, 1)\n",
    "P_X = gp.simulations.p_from_latent(X, loops=True)\n",
    "\n",
    "A = gp.simulations.sample_edges(P_X)\n",
    "\n",
    "Y = np.repeat(p, n).reshape(-1, 1)\n",
    "Y[0, 0] += 1 / np.sqrt(0.25)\n",
    "Y = np.sqrt(Y)\n",
    "P_Y = gp.simulations.p_from_latent(Y, Y, loops=True)\n",
    "\n",
    "B = gp.simulations.sample_edges(P_Y)"
   ]
  },
  {
   "cell_type": "code",
   "execution_count": 28,
   "id": "0176df2f-d432-4b59-8c25-24de3f7330b6",
   "metadata": {},
   "outputs": [],
   "source": [
    "stats, null1, null2 = vertex_position_test(A, B, n_components=2, n_bootstraps=10)"
   ]
  },
  {
   "cell_type": "code",
   "execution_count": 34,
   "id": "8a5ac398-6ac1-4b39-8a6f-5052957f6e1f",
   "metadata": {},
   "outputs": [
    {
     "data": {
      "text/plain": [
       "array([0. , 0. , 0.3, 0.1, 0.1, 0. , 0.9, 0. , 0.3, 0.7, 0.1, 0.1, 0. ,\n",
       "       0.1, 0.3, 0. , 0.2, 0.1, 0.2, 0.3, 0. , 0. , 1. , 0.1, 0.8])"
      ]
     },
     "execution_count": 34,
     "metadata": {},
     "output_type": "execute_result"
    }
   ],
   "source": [
    "(stats <= null1).mean(axis=1)"
   ]
  },
  {
   "cell_type": "code",
   "execution_count": 33,
   "id": "0036c176-9371-4632-b085-0d03732b5525",
   "metadata": {},
   "outputs": [
    {
     "data": {
      "text/plain": [
       "array([0. , 0.1, 0.5, 0.3, 0.2, 0.1, 1. , 0.1, 0.6, 0.7, 0. , 0.3, 0.1,\n",
       "       0.2, 0.2, 0. , 0.2, 0.3, 0.3, 0.6, 0.1, 0.4, 0.9, 0.2, 1. ])"
      ]
     },
     "execution_count": 33,
     "metadata": {},
     "output_type": "execute_result"
    }
   ],
   "source": [
    "(stats <= null2).mean(axis=1)"
   ]
  },
  {
   "cell_type": "code",
   "execution_count": 25,
   "id": "c9aca710-06af-4ffb-b6df-eb195dbdfd37",
   "metadata": {},
   "outputs": [
    {
     "data": {
      "text/plain": [
       "(array([[1.08592646],\n",
       "        [1.23819776],\n",
       "        [0.50268083],\n",
       "        [0.68186108],\n",
       "        [0.75424057],\n",
       "        [0.70981027],\n",
       "        [0.10757134],\n",
       "        [1.44302925],\n",
       "        [0.63841905],\n",
       "        [0.43701447],\n",
       "        [0.71786214],\n",
       "        [0.53037363],\n",
       "        [1.24223781],\n",
       "        [0.49581513],\n",
       "        [0.78747452],\n",
       "        [0.69774538],\n",
       "        [0.78207827],\n",
       "        [1.13014465],\n",
       "        [0.42221045],\n",
       "        [0.32720892],\n",
       "        [0.48952811],\n",
       "        [0.71228932],\n",
       "        [0.10285327],\n",
       "        [0.55188964],\n",
       "        [0.66793746]]),\n",
       " array([[0.2528289 , 0.49870691, 0.32718582, 0.84894284, 0.59270639,\n",
       "         0.16404008, 0.59330663, 0.79079147, 0.53856319, 0.31317709],\n",
       "        [0.28779841, 0.5179362 , 0.48685724, 0.67563371, 0.69005435,\n",
       "         0.38910428, 0.36012764, 0.22852313, 1.00122476, 0.36295217],\n",
       "        [1.17205671, 0.31645792, 0.41134709, 0.38488377, 0.46720902,\n",
       "         0.17009708, 0.3163768 , 0.93767469, 0.54143958, 0.30539361],\n",
       "        [0.51394481, 0.98994353, 0.24180063, 0.26936906, 1.24787203,\n",
       "         0.10004305, 0.17487881, 0.56158761, 0.37815937, 0.2101264 ],\n",
       "        [0.77058547, 0.36153142, 0.2383185 , 0.51973057, 1.11473996,\n",
       "         0.13355534, 0.51362169, 0.38124355, 0.24638296, 0.12983108],\n",
       "        [0.23161382, 0.33262207, 0.37651958, 0.3002809 , 0.53330731,\n",
       "         0.46736854, 0.35030813, 0.50800666, 0.45003255, 0.53181908],\n",
       "        [0.79569171, 0.80317632, 0.22780508, 0.66036303, 0.32791135,\n",
       "         0.3222499 , 0.60862028, 0.59715599, 0.66861015, 0.59346048],\n",
       "        [0.23516762, 0.42104066, 0.10906437, 0.51697316, 0.07751796,\n",
       "         0.2329695 , 0.35251781, 0.16767589, 0.99612623, 0.22901117],\n",
       "        [0.36531811, 0.26230636, 0.52019508, 0.40514502, 0.08992194,\n",
       "         0.20958681, 0.32817139, 0.48605483, 0.08849553, 0.543278  ],\n",
       "        [0.1989101 , 0.33687514, 0.24212059, 0.49657481, 0.92202136,\n",
       "         0.5154505 , 0.49319662, 0.50706251, 0.78786178, 0.80543335],\n",
       "        [0.59392957, 0.50530186, 0.54975718, 0.84149711, 0.7353697 ,\n",
       "         0.17559363, 0.51334477, 0.410001  , 0.45405947, 0.23933661],\n",
       "        [0.12805363, 0.31772468, 0.47836505, 0.84090706, 0.18814219,\n",
       "         0.14681588, 0.12325393, 0.83964578, 1.00700337, 0.31518499],\n",
       "        [0.42998056, 0.7719755 , 0.36704241, 0.64137026, 0.23653779,\n",
       "         0.27234276, 0.22177835, 0.62906116, 0.37360522, 0.57762245],\n",
       "        [0.25247523, 1.08705291, 1.01556779, 0.6552261 , 0.13455933,\n",
       "         0.18798326, 0.06353327, 0.23412107, 0.54038002, 0.54658886],\n",
       "        [0.4447241 , 0.10013482, 0.85966777, 0.92632463, 0.68257296,\n",
       "         0.20250928, 0.11565589, 0.61316192, 0.6969809 , 0.49717806],\n",
       "        [0.15441786, 0.78577349, 0.73430295, 0.2012156 , 0.09273433,\n",
       "         0.43654302, 0.31231108, 0.19955456, 0.67286369, 0.21981537],\n",
       "        [0.25310264, 0.37490827, 0.55060495, 0.37466108, 0.16940785,\n",
       "         0.5588626 , 0.33562987, 0.44778045, 0.39098824, 0.55526617],\n",
       "        [0.33318722, 0.37069586, 0.27380996, 0.51531818, 0.45733056,\n",
       "         0.16095672, 0.34887335, 0.13062059, 0.41557338, 0.54415202],\n",
       "        [0.45861786, 0.77523016, 0.61079524, 1.24020095, 0.79462421,\n",
       "         0.71634022, 0.58219854, 0.63011284, 0.37548973, 0.4112205 ],\n",
       "        [0.21605996, 0.15926961, 0.72970836, 0.35421801, 0.45230831,\n",
       "         0.43245478, 0.13904594, 1.01157055, 0.54029237, 0.32235596],\n",
       "        [0.09633455, 0.26005899, 0.63870313, 0.39624893, 0.29115115,\n",
       "         0.11683192, 0.40483742, 0.52896543, 0.89061197, 0.71938753],\n",
       "        [0.32903473, 0.51087849, 0.28120507, 1.25966729, 0.09759654,\n",
       "         0.52805115, 0.46270756, 0.27454264, 0.5785461 , 0.19765368],\n",
       "        [0.46978806, 0.49266511, 0.79711684, 0.36032878, 0.65794974,\n",
       "         0.50284067, 0.09095999, 0.6242152 , 0.32122274, 0.1848105 ],\n",
       "        [0.44525051, 0.85857908, 0.70353564, 0.27676008, 0.46827147,\n",
       "         0.152073  , 0.57562888, 1.14973272, 0.32228443, 0.38331201],\n",
       "        [0.09026063, 0.71352445, 0.93221972, 0.24437322, 0.63933295,\n",
       "         0.51584249, 0.54771836, 0.83265293, 0.26276676, 0.90176408]]),\n",
       " array([[0.57468142, 0.28278389, 0.3330634 , 1.41702368, 1.17672013,\n",
       "         1.41681403, 1.12266945, 0.32238794, 0.31354304, 0.88319846],\n",
       "        [0.96137591, 0.46216994, 0.36459292, 0.40570848, 1.11504661,\n",
       "         0.64356825, 0.63019246, 1.18813006, 0.72254374, 0.33411691],\n",
       "        [0.6069314 , 0.82362633, 0.4073849 , 0.50017238, 0.67107943,\n",
       "         0.57258386, 0.69105649, 0.411246  , 0.96152291, 0.66561663],\n",
       "        [0.60018702, 0.28137669, 0.84911196, 0.36460474, 0.52613343,\n",
       "         0.28188104, 0.2886278 , 0.18765056, 0.26549929, 1.08857332],\n",
       "        [0.49218007, 1.20339347, 0.42368756, 0.44329396, 0.31795458,\n",
       "         0.63809449, 0.68255171, 0.62472407, 0.07430213, 0.46750974],\n",
       "        [0.51591607, 0.35584399, 0.45558712, 0.28362005, 0.29146113,\n",
       "         0.55408479, 0.0995212 , 0.58057019, 0.44186833, 0.36875154],\n",
       "        [0.98291466, 0.45958007, 0.86746958, 1.3227051 , 0.45426222,\n",
       "         0.81298136, 0.42838182, 0.55330349, 0.55303244, 0.69767326],\n",
       "        [0.44574726, 1.04105934, 0.11116491, 0.35200003, 0.51179808,\n",
       "         0.45532254, 0.56203464, 0.34963998, 0.87522053, 0.59949718],\n",
       "        [0.87858271, 0.44297553, 0.43007006, 0.37543306, 0.50145982,\n",
       "         0.76766482, 0.47069415, 0.41978802, 0.92829958, 0.6480985 ],\n",
       "        [0.19124425, 0.99317361, 0.46155881, 0.68218362, 0.66488189,\n",
       "         0.41517877, 0.67498202, 0.57417753, 0.44091854, 0.56041584],\n",
       "        [0.46993974, 0.37358055, 0.68534583, 1.16193842, 1.02335101,\n",
       "         1.00055876, 0.65654089, 1.05433258, 0.91526586, 1.12466749],\n",
       "        [0.22346083, 0.15281688, 1.05887064, 0.89598367, 0.48388828,\n",
       "         0.57572211, 0.28871364, 0.66475297, 0.4919523 , 0.37316896],\n",
       "        [0.49063843, 0.46711475, 0.31404316, 0.42956636, 0.6114951 ,\n",
       "         0.78639907, 0.57449105, 0.68216108, 0.55351215, 0.22625712],\n",
       "        [0.32456764, 0.5527403 , 0.90416831, 0.56482658, 1.40620947,\n",
       "         0.4901026 , 1.14852646, 1.19730516, 0.59422621, 0.20682734],\n",
       "        [0.2487608 , 0.45966213, 0.30129721, 0.28035998, 1.20340447,\n",
       "         0.38239525, 0.21808095, 0.19296093, 0.14948478, 0.88757398],\n",
       "        [0.40845167, 0.58575543, 0.45618205, 0.6621366 , 0.18608227,\n",
       "         0.72441488, 0.58210917, 0.61688879, 1.1736596 , 0.62272757],\n",
       "        [0.63912586, 1.27049026, 0.38188044, 0.53713287, 0.92102995,\n",
       "         0.75125939, 0.42648252, 1.3347031 , 0.37712793, 1.11232863],\n",
       "        [0.83756208, 0.54209033, 0.8586598 , 0.34606312, 0.97436399,\n",
       "         0.60704047, 0.78803526, 1.0104945 , 0.35164826, 0.30292074],\n",
       "        [0.83637718, 0.20387182, 1.07852459, 0.58848833, 0.28761035,\n",
       "         0.55610211, 0.47291598, 0.44654855, 1.00761085, 0.29505384],\n",
       "        [0.84305123, 0.19187676, 0.79817397, 1.18190493, 0.42696342,\n",
       "         0.31676709, 0.3421072 , 0.29858224, 0.56992976, 0.6405229 ],\n",
       "        [0.30536842, 0.59735414, 0.78700762, 0.75363705, 0.37005241,\n",
       "         0.4443393 , 0.71720506, 0.71356821, 0.51366229, 0.16381725],\n",
       "        [0.36680756, 0.78430536, 0.65974184, 0.61792277, 0.50322997,\n",
       "         0.36061659, 1.15672058, 0.45000567, 0.4471095 , 0.75620536],\n",
       "        [0.41034943, 0.30553683, 0.76982869, 0.80758518, 0.26402464,\n",
       "         0.46339751, 0.46939554, 0.91005074, 0.43204702, 0.49231815],\n",
       "        [0.23315977, 0.38759659, 0.51668798, 0.21824815, 0.3174757 ,\n",
       "         0.88258629, 0.56212237, 0.55462033, 1.01565712, 1.12209696],\n",
       "        [0.21713266, 0.5059026 , 0.2325791 , 0.77062575, 0.59847775,\n",
       "         0.92401475, 1.08819099, 0.35035358, 0.73314634, 0.67254822]]))"
      ]
     },
     "execution_count": 25,
     "metadata": {},
     "output_type": "execute_result"
    }
   ],
   "source": [
    "res"
   ]
  },
  {
   "cell_type": "code",
   "execution_count": null,
   "id": "c3115b33-8c7f-4d9d-b59e-39a8162225d2",
   "metadata": {},
   "outputs": [
    {
     "data": {
      "text/plain": [
       "0.5"
      ]
     },
     "execution_count": 38,
     "metadata": {},
     "output_type": "execute_result"
    }
   ],
   "source": [
    "0.25 + np.sqrt(0.25**2)"
   ]
  },
  {
   "cell_type": "code",
   "execution_count": null,
   "id": "456983c9-cf0d-45d8-8f99-d078bfb189f6",
   "metadata": {},
   "outputs": [
    {
     "data": {
      "text/plain": [
       "0.0625"
      ]
     },
     "execution_count": 41,
     "metadata": {},
     "output_type": "execute_result"
    }
   ],
   "source": [
    "0.25**2"
   ]
  },
  {
   "cell_type": "code",
   "execution_count": 59,
   "id": "031dc1de-6b31-447f-9dbb-48f1995e6d27",
   "metadata": {},
   "outputs": [
    {
     "data": {
      "text/plain": [
       "<AxesSubplot:>"
      ]
     },
     "execution_count": 59,
     "metadata": {},
     "output_type": "execute_result"
    },
    {
     "data": {
      "image/png": "[encoded data removed]",
      "text/plain": [
       "<Figure size 900x900 with 2 Axes>"
      ]
     },
     "metadata": {},
     "output_type": "display_data"
    }
   ],
   "source": [
    "fig, ax = plt.subplots(ncols=2, figsize=(3, 3), dpi=300)\n",
    "\n",
    "\n",
    "gp.plot.heatmap(A, cbar=False, ax=ax[0])\n",
    "gp.plot.heatmap(B, cbar=False, ax=ax[1])"
   ]
  },
  {
   "cell_type": "code",
   "execution_count": null,
   "id": "0050951e-d92b-481b-8d85-af621d8960f6",
   "metadata": {},
   "outputs": [],
   "source": []
  }
 ],
 "metadata": {
  "kernelspec": {
   "display_name": "Python 3 (ipykernel)",
   "language": "python",
   "name": "python3"
  },
  "language_info": {
   "codemirror_mode": {
    "name": "ipython",
    "version": 3
   },
   "file_extension": ".py",
   "mimetype": "text/x-python",
   "name": "python",
   "nbconvert_exporter": "python",
   "pygments_lexer": "ipython3",
   "version": "3.9.14"
  }
 },
 "nbformat": 4,
 "nbformat_minor": 5
}
